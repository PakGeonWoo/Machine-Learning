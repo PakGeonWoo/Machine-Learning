{
 "cells": [
  {
   "cell_type": "code",
   "execution_count": 50,
   "id": "db6d4f4f",
   "metadata": {},
   "outputs": [],
   "source": [
    "from sklearn.linear_model import Ridge # 릿지 회귀 모델\n",
    "from sklearn.linear_model import Lasso# 라쏘 회귀 모델\n",
    "import numpy as np\n",
    "import pandas as pd # 데이터프레임을 위한 판다스\n",
    "from sklearn.model_selection import train_test_split # 데이터 나누기"
   ]
  },
  {
   "cell_type": "code",
   "execution_count": 51,
   "id": "3d0eceb9",
   "metadata": {},
   "outputs": [],
   "source": [
    "X_data = pd.read_csv('C:/Users/DELL/Desktop/X_data.csv', encoding='latin_1')\n",
    "y_data = pd.read_csv('C:/Users/DELL/Desktop/y_data.csv', encoding='latin_1')"
   ]
  },
  {
   "cell_type": "code",
   "execution_count": 52,
   "id": "1220e180",
   "metadata": {},
   "outputs": [],
   "source": [
    "X = X_data.astype('float')\n",
    "y = y_data.astype('int')"
   ]
  },
  {
   "cell_type": "code",
   "execution_count": 53,
   "id": "253f28cb",
   "metadata": {},
   "outputs": [],
   "source": [
    "X_train, X_test, y_train, y_test = train_test_split(X, y, test_size=0.3, random_state=6)"
   ]
  },
  {
   "cell_type": "code",
   "execution_count": 54,
   "id": "7c774e0c",
   "metadata": {},
   "outputs": [
    {
     "name": "stdout",
     "output_type": "stream",
     "text": [
      "2662\n",
      "1142\n",
      "2662\n",
      "1142\n"
     ]
    }
   ],
   "source": [
    "print(len(X_train))\n",
    "print(len(X_test))\n",
    "print(len(y_train))\n",
    "print(len(y_test))"
   ]
  },
  {
   "cell_type": "code",
   "execution_count": 75,
   "id": "c7dab2c2",
   "metadata": {},
   "outputs": [],
   "source": [
    "ridge = Ridge(alpha=0.1)\n",
    "ridge2 = Ridge(alpha=0.1)\n",
    "ridge3 = Ridge(alpha=0.1)\n",
    "\n",
    "lasso = Lasso(alpha=0.1)\n",
    "lasso2 = Lasso(alpha=0.1)\n",
    "lasso3 = Lasso(alpha=0.1)"
   ]
  },
  {
   "cell_type": "code",
   "execution_count": 76,
   "id": "975eadc4",
   "metadata": {},
   "outputs": [
    {
     "data": {
      "text/plain": [
       "Ridge(alpha=0.1)"
      ]
     },
     "execution_count": 76,
     "metadata": {},
     "output_type": "execute_result"
    }
   ],
   "source": [
    "ridge.fit(X_train, y_train.iloc[:,:1])\n",
    "ridge2.fit(X_train, y_train.iloc[:,1:2])\n",
    "ridge3.fit(X_train, y_train.iloc[:,2:3])"
   ]
  },
  {
   "cell_type": "code",
   "execution_count": 77,
   "id": "d709fb22",
   "metadata": {},
   "outputs": [
    {
     "name": "stderr",
     "output_type": "stream",
     "text": [
      "C:\\Users\\DELL\\anaconda3\\lib\\site-packages\\sklearn\\linear_model\\_coordinate_descent.py:647: ConvergenceWarning: Objective did not converge. You might want to increase the number of iterations, check the scale of the features or consider increasing regularisation. Duality gap: 8.818e+02, tolerance: 2.075e+02\n",
      "  model = cd_fast.enet_coordinate_descent(\n",
      "C:\\Users\\DELL\\anaconda3\\lib\\site-packages\\sklearn\\linear_model\\_coordinate_descent.py:647: ConvergenceWarning: Objective did not converge. You might want to increase the number of iterations, check the scale of the features or consider increasing regularisation. Duality gap: 2.064e+02, tolerance: 1.850e+02\n",
      "  model = cd_fast.enet_coordinate_descent(\n",
      "C:\\Users\\DELL\\anaconda3\\lib\\site-packages\\sklearn\\linear_model\\_coordinate_descent.py:647: ConvergenceWarning: Objective did not converge. You might want to increase the number of iterations, check the scale of the features or consider increasing regularisation. Duality gap: 2.060e+02, tolerance: 1.906e+02\n",
      "  model = cd_fast.enet_coordinate_descent(\n"
     ]
    },
    {
     "data": {
      "text/plain": [
       "Lasso(alpha=0.1)"
      ]
     },
     "execution_count": 77,
     "metadata": {},
     "output_type": "execute_result"
    }
   ],
   "source": [
    "lasso.fit(X_train, y_train.iloc[:,:1])\n",
    "lasso2.fit(X_train, y_train.iloc[:,1:2])\n",
    "lasso3.fit(X_train, y_train.iloc[:,2:3])"
   ]
  },
  {
   "cell_type": "code",
   "execution_count": 78,
   "id": "a9568df6",
   "metadata": {},
   "outputs": [
    {
     "name": "stdout",
     "output_type": "stream",
     "text": [
      "0.9997798937438518\n",
      "0.9997947887367961\n",
      "0.9997737165725437\n"
     ]
    }
   ],
   "source": [
    "print(lasso.score(X_test, y_test.iloc[:,:1]))\n",
    "print(lasso2.score(X_test, y_test.iloc[:,1:2]))\n",
    "print(lasso3.score(X_test, y_test.iloc[:,2:3]))"
   ]
  },
  {
   "cell_type": "code",
   "execution_count": 79,
   "id": "4ac92fed",
   "metadata": {},
   "outputs": [
    {
     "name": "stdout",
     "output_type": "stream",
     "text": [
      "0.999790015358169\n",
      "0.999795357973732\n",
      "0.9997740486881479\n"
     ]
    }
   ],
   "source": [
    "print(ridge.score(X_test, y_test.iloc[:,:1]))\n",
    "print(ridge2.score(X_test, y_test.iloc[:,1:2]))\n",
    "print(ridge3.score(X_test, y_test.iloc[:,2:3])) # 릿지가 좀 더 잘 나오넹"
   ]
  },
  {
   "cell_type": "code",
   "execution_count": null,
   "id": "7161bc3e",
   "metadata": {},
   "outputs": [],
   "source": []
  }
 ],
 "metadata": {
  "kernelspec": {
   "display_name": "Python 3 (ipykernel)",
   "language": "python",
   "name": "python3"
  },
  "language_info": {
   "codemirror_mode": {
    "name": "ipython",
    "version": 3
   },
   "file_extension": ".py",
   "mimetype": "text/x-python",
   "name": "python",
   "nbconvert_exporter": "python",
   "pygments_lexer": "ipython3",
   "version": "3.9.12"
  }
 },
 "nbformat": 4,
 "nbformat_minor": 5
}
