{
 "cells": [
  {
   "cell_type": "code",
   "execution_count": 100,
   "id": "742a6a45",
   "metadata": {},
   "outputs": [
    {
     "name": "stdout",
     "output_type": "stream",
     "text": [
      "PM10 >> 26.5\n",
      "PM2.5 >> 21.7\n",
      "PM1 >> 20.9\n"
     ]
    }
   ],
   "source": [
    "import joblib\n",
    "import pandas as pd\n",
    "\n",
    "model = joblib.load('XgbSave.pkl')\n",
    "\n",
    "def grimm_xgb(data1, data2, data3, data4, data5, data6, data7, data8, data9, data10, data11, data12, data13, data14, data15, data16, data17, data18, data19, data20, data21, data22, data23, data24, data25, data26, data27, data28, data29, data30, data31) : \n",
    "    \n",
    "    number = [data1, data2, data3, data4, data5, data6, data7, data8, data9, data10, data11, data12, data13, data14, data15, data16, data17, data18, data19, data20, data21, data22, data23, data24, data25, data26, data27, data28, data29, data30, data31]\n",
    "    \n",
    "    for i in number : \n",
    "        if i < 0 :\n",
    "            return print(\"Error : 매개변수로 음수는 사용되지 않습니다.\")\n",
    "            \n",
    "    pd_predict = pd.DataFrame(columns=['0.265 µm', '0.290 µm', '0.325 µm', '0.375 µm', '0.425 µm', '0.475 µm', '0.540 µm', '0.615 µm', '0.675 µm', '0.750 µm', '0.900 µm', '1.150 µm', '1.450 µm', '1.800 µm', '2.250 µm', '2.750 µm', '3.250 µm', '3.750 µm', '4.500 µm', '5.750 µm', '7.000 µm', '8.000 µm', '9.250 µm', '11.250 µm', '13.750 µm', '16.250 µm', '18.750 µm', '22.500 µm', '27.500 µm', '31.000 µm', '34.000 µm'])\n",
    "    pd_predict.loc[0]= [data1, data2, data3, data4, data5, data6, data7, data8, data9, data10, data11, data12, data13, data14, data15, data16, data17, data18, data19, data20, data21, data22, data23, data24, data25, data26, data27, data28, data29, data30, data31]\n",
    "    result = model.predict(pd_predict)\n",
    "    \n",
    "    return print(\"PM10 >> {:.1f}\\nPM2.5 >> {:.1f}\\nPM1 >> {:.1f}\".format(result[0][0], result[0][1], result[0][2]))\n",
    "\n",
    "# 0.265 µm ~ 34.000µm 까지 차례대로 입력해준다\n",
    "try : \n",
    "    grimm_xgb(94705,60245,35130,20475,7970,3495,2965,935,360,395,125,120,60,85,47,23,20,9,19,4,2,0,1,0,0,0,0,0,0,0,0)\n",
    "except TypeError :\n",
    "    print(\"TypeError : 매개변수의 개수가 맞지 않습니다.\")\n",
    "except ValueError:\n",
    "    print(\"ValueError : 매개변수의 타입이 맞지 않습니다.\")"
   ]
  },
  {
   "cell_type": "code",
   "execution_count": null,
   "id": "b001902c",
   "metadata": {},
   "outputs": [],
   "source": []
  }
 ],
 "metadata": {
  "kernelspec": {
   "display_name": "Python 3 (ipykernel)",
   "language": "python",
   "name": "python3"
  },
  "language_info": {
   "codemirror_mode": {
    "name": "ipython",
    "version": 3
   },
   "file_extension": ".py",
   "mimetype": "text/x-python",
   "name": "python",
   "nbconvert_exporter": "python",
   "pygments_lexer": "ipython3",
   "version": "3.9.12"
  }
 },
 "nbformat": 4,
 "nbformat_minor": 5
}
